{
 "cells": [
  {
   "cell_type": "code",
   "execution_count": 1,
   "metadata": {},
   "outputs": [],
   "source": [
    "import os\n",
    "import pandas as pd\n",
    "import numpy as np\n",
    "import matplotlib as mp\n",
    "from datetime import datetime\n",
    "from collections import defaultdict\n",
    "import matplotlib.pyplot as plt"
   ]
  },
  {
   "cell_type": "code",
   "execution_count": 2,
   "metadata": {},
   "outputs": [
    {
     "data": {
      "text/plain": [
       "'C:\\\\Users\\\\Snehal\\\\Documents\\\\Personal\\\\snehal\\\\Jobs and Internships\\\\Full-time-After Internship\\\\Allen Institute'"
      ]
     },
     "execution_count": 2,
     "metadata": {},
     "output_type": "execute_result"
    }
   ],
   "source": [
    "os.getcwd()"
   ]
  },
  {
   "cell_type": "code",
   "execution_count": 3,
   "metadata": {
    "collapsed": true
   },
   "outputs": [],
   "source": [
    "os.chdir('C:\\Users\\Snehal\\Documents\\Personal\\snehal\\Jobs and Internships\\Full-time-After Internship\\Allen Institute')"
   ]
  },
  {
   "cell_type": "code",
   "execution_count": 4,
   "metadata": {
    "collapsed": true
   },
   "outputs": [],
   "source": [
    "df = pd.read_csv('BIE_homework_assignment.csv')"
   ]
  },
  {
   "cell_type": "code",
   "execution_count": 5,
   "metadata": {},
   "outputs": [
    {
     "data": {
      "text/html": [
       "<div>\n",
       "<style>\n",
       "    .dataframe thead tr:only-child th {\n",
       "        text-align: right;\n",
       "    }\n",
       "\n",
       "    .dataframe thead th {\n",
       "        text-align: left;\n",
       "    }\n",
       "\n",
       "    .dataframe tbody tr th {\n",
       "        vertical-align: top;\n",
       "    }\n",
       "</style>\n",
       "<table border=\"1\" class=\"dataframe\">\n",
       "  <thead>\n",
       "    <tr style=\"text-align: right;\">\n",
       "      <th></th>\n",
       "      <th>session_id</th>\n",
       "      <th>time</th>\n",
       "      <th>landing_page</th>\n",
       "      <th>path</th>\n",
       "    </tr>\n",
       "  </thead>\n",
       "  <tbody>\n",
       "    <tr>\n",
       "      <th>0</th>\n",
       "      <td>2314440000000000</td>\n",
       "      <td>06/01/2018 0:00</td>\n",
       "      <td>www.semanticscholar.org/</td>\n",
       "      <td>/</td>\n",
       "    </tr>\n",
       "    <tr>\n",
       "      <th>1</th>\n",
       "      <td>6405710000000000</td>\n",
       "      <td>06/01/2018 0:00</td>\n",
       "      <td>www.semanticscholar.org/paper/Building-Natural...</td>\n",
       "      <td>/paper/Building-Natural-Language-Interfaces-to...</td>\n",
       "    </tr>\n",
       "    <tr>\n",
       "      <th>2</th>\n",
       "      <td>6668560000000000</td>\n",
       "      <td>06/01/2018 0:00</td>\n",
       "      <td>www.semanticscholar.org/paper/Biochemical-and-...</td>\n",
       "      <td>/paper/Biochemical-and-redox-characterization-...</td>\n",
       "    </tr>\n",
       "    <tr>\n",
       "      <th>3</th>\n",
       "      <td>6868690000000000</td>\n",
       "      <td>06/01/2018 0:00</td>\n",
       "      <td>www.semanticscholar.org/paper/The-Role-of-Deli...</td>\n",
       "      <td>/paper/The-Role-of-Deliberate-Practice-in-the-...</td>\n",
       "    </tr>\n",
       "    <tr>\n",
       "      <th>4</th>\n",
       "      <td>3773870000000000</td>\n",
       "      <td>06/01/2018 0:00</td>\n",
       "      <td>www.semanticscholar.org/paper/Sovereign-Debt-i...</td>\n",
       "      <td>/paper/Sovereign-Debt-in-Latin-America-%2C-182...</td>\n",
       "    </tr>\n",
       "  </tbody>\n",
       "</table>\n",
       "</div>"
      ],
      "text/plain": [
       "         session_id             time  \\\n",
       "0  2314440000000000  06/01/2018 0:00   \n",
       "1  6405710000000000  06/01/2018 0:00   \n",
       "2  6668560000000000  06/01/2018 0:00   \n",
       "3  6868690000000000  06/01/2018 0:00   \n",
       "4  3773870000000000  06/01/2018 0:00   \n",
       "\n",
       "                                        landing_page  \\\n",
       "0                           www.semanticscholar.org/   \n",
       "1  www.semanticscholar.org/paper/Building-Natural...   \n",
       "2  www.semanticscholar.org/paper/Biochemical-and-...   \n",
       "3  www.semanticscholar.org/paper/The-Role-of-Deli...   \n",
       "4  www.semanticscholar.org/paper/Sovereign-Debt-i...   \n",
       "\n",
       "                                                path  \n",
       "0                                                  /  \n",
       "1  /paper/Building-Natural-Language-Interfaces-to...  \n",
       "2  /paper/Biochemical-and-redox-characterization-...  \n",
       "3  /paper/The-Role-of-Deliberate-Practice-in-the-...  \n",
       "4  /paper/Sovereign-Debt-in-Latin-America-%2C-182...  "
      ]
     },
     "execution_count": 5,
     "metadata": {},
     "output_type": "execute_result"
    }
   ],
   "source": [
    "df.head()"
   ]
  },
  {
   "cell_type": "code",
   "execution_count": 6,
   "metadata": {},
   "outputs": [
    {
     "name": "stdout",
     "output_type": "stream",
     "text": [
      "<class 'pandas.core.frame.DataFrame'>\n",
      "RangeIndex: 1000000 entries, 0 to 999999\n",
      "Data columns (total 4 columns):\n",
      "session_id      1000000 non-null int64\n",
      "time            1000000 non-null object\n",
      "landing_page    999230 non-null object\n",
      "path            1000000 non-null object\n",
      "dtypes: int64(1), object(3)\n",
      "memory usage: 30.5+ MB\n"
     ]
    }
   ],
   "source": [
    "df.info()"
   ]
  },
  {
   "cell_type": "code",
   "execution_count": 7,
   "metadata": {
    "collapsed": true
   },
   "outputs": [],
   "source": [
    "#The columns with 'object' dtype are the possible categorical features in df dataset. "
   ]
  },
  {
   "cell_type": "code",
   "execution_count": 8,
   "metadata": {
    "collapsed": true
   },
   "outputs": [],
   "source": [
    "# The reason why I am saying that these categorical features are 'possible' is because we shouldn't not completely rely "
   ]
  },
  {
   "cell_type": "code",
   "execution_count": 9,
   "metadata": {
    "collapsed": true
   },
   "outputs": [],
   "source": [
    "# on .info() to get the real data type of the values of a feature, as some missing values that are represented as strings"
   ]
  },
  {
   "cell_type": "code",
   "execution_count": 10,
   "metadata": {
    "collapsed": true
   },
   "outputs": [],
   "source": [
    "#  in a continuous feature can coerce it to read them as object dtypes."
   ]
  },
  {
   "cell_type": "code",
   "execution_count": 11,
   "metadata": {},
   "outputs": [
    {
     "data": {
      "text/plain": [
       "session_id        0\n",
       "time              0\n",
       "landing_page    770\n",
       "path              0\n",
       "dtype: int64"
      ]
     },
     "execution_count": 11,
     "metadata": {},
     "output_type": "execute_result"
    }
   ],
   "source": [
    "df.isnull().sum()"
   ]
  },
  {
   "cell_type": "code",
   "execution_count": 12,
   "metadata": {
    "collapsed": true
   },
   "outputs": [],
   "source": [
    "new_df = df.dropna()"
   ]
  },
  {
   "cell_type": "code",
   "execution_count": 13,
   "metadata": {},
   "outputs": [
    {
     "data": {
      "text/plain": [
       "session_id      0\n",
       "time            0\n",
       "landing_page    0\n",
       "path            0\n",
       "dtype: int64"
      ]
     },
     "execution_count": 13,
     "metadata": {},
     "output_type": "execute_result"
    }
   ],
   "source": [
    "new_df.isnull().sum()"
   ]
  },
  {
   "cell_type": "code",
   "execution_count": 14,
   "metadata": {},
   "outputs": [
    {
     "data": {
      "text/plain": [
       "999230"
      ]
     },
     "execution_count": 14,
     "metadata": {},
     "output_type": "execute_result"
    }
   ],
   "source": [
    "len(new_df)"
   ]
  },
  {
   "cell_type": "code",
   "execution_count": 15,
   "metadata": {},
   "outputs": [
    {
     "data": {
      "text/plain": [
       "255548"
      ]
     },
     "execution_count": 15,
     "metadata": {},
     "output_type": "execute_result"
    }
   ],
   "source": [
    "len(new_df.landing_page.unique().tolist())"
   ]
  },
  {
   "cell_type": "code",
   "execution_count": 16,
   "metadata": {
    "collapsed": true
   },
   "outputs": [],
   "source": [
    "# find a landing page which has 'paper' word to get top 100 papers in the dataset\n",
    "\n",
    "df1 = new_df[new_df['landing_page'].str.contains(\"paper\")]"
   ]
  },
  {
   "cell_type": "code",
   "execution_count": 17,
   "metadata": {
    "collapsed": true
   },
   "outputs": [],
   "source": [
    "# get top 100 most frequent papers\n",
    "n = 100\n",
    "df_papers = df1['landing_page'].value_counts()[:n].index.tolist()"
   ]
  },
  {
   "cell_type": "code",
   "execution_count": 18,
   "metadata": {
    "collapsed": true
   },
   "outputs": [],
   "source": [
    "# Extracting top 100 papers in Top100Papers.csv file\n",
    "np.savetxt(\"Top100Papers.csv\", df_papers, delimiter=\",\", fmt='%s')"
   ]
  },
  {
   "cell_type": "code",
   "execution_count": 19,
   "metadata": {
    "collapsed": true
   },
   "outputs": [],
   "source": [
    "###################################################################################"
   ]
  },
  {
   "cell_type": "code",
   "execution_count": 20,
   "metadata": {},
   "outputs": [
    {
     "data": {
      "text/plain": [
       "www.semanticscholar.org/                                                                                                                              70507\n",
       "www.semanticscholar.org/search                                                                                                                        27399\n",
       "www.semanticscholar.org/paper/Development-of-Low-Profile-Patch-and-Semi-Circular-Dashti-Neshati/dfdaa75c51a982313177f0047c3cc8904c1541d9               1105\n",
       "www.semanticscholar.org/paper/Internet-of-Things-Zhang-Ning/66ae077267dfc2ed6b7a649e5782f31f34a9fe9c                                                    789\n",
       "www.semanticscholar.org/paper/A-0.26-nJ%2Fnode%2C-400-kHz-Tx-Driving%2C-Filtered-Fully-Park-Kim/56f7a07bc2d092322780ebec6aac6150df5f0607/figure/22      576\n",
       "Name: landing_page, dtype: int64"
      ]
     },
     "execution_count": 20,
     "metadata": {},
     "output_type": "execute_result"
    }
   ],
   "source": [
    "# find top landing page in the dataset\n",
    "\n",
    "new_df[\"landing_page\"].value_counts().head(5)"
   ]
  },
  {
   "cell_type": "code",
   "execution_count": 21,
   "metadata": {},
   "outputs": [
    {
     "data": {
      "text/html": [
       "<div>\n",
       "<style>\n",
       "    .dataframe thead tr:only-child th {\n",
       "        text-align: right;\n",
       "    }\n",
       "\n",
       "    .dataframe thead th {\n",
       "        text-align: left;\n",
       "    }\n",
       "\n",
       "    .dataframe tbody tr th {\n",
       "        vertical-align: top;\n",
       "    }\n",
       "</style>\n",
       "<table border=\"1\" class=\"dataframe\">\n",
       "  <thead>\n",
       "    <tr style=\"text-align: right;\">\n",
       "      <th></th>\n",
       "      <th>0</th>\n",
       "      <th>1</th>\n",
       "      <th>2</th>\n",
       "    </tr>\n",
       "  </thead>\n",
       "  <tbody>\n",
       "    <tr>\n",
       "      <th>0</th>\n",
       "      <td></td>\n",
       "      <td></td>\n",
       "      <td>None</td>\n",
       "    </tr>\n",
       "    <tr>\n",
       "      <th>1</th>\n",
       "      <td></td>\n",
       "      <td>paper/Building-Natural-Language-Interfaces-to-...</td>\n",
       "      <td>None</td>\n",
       "    </tr>\n",
       "    <tr>\n",
       "      <th>2</th>\n",
       "      <td></td>\n",
       "      <td>paper/Biochemical-and-redox-characterization-o...</td>\n",
       "      <td>None</td>\n",
       "    </tr>\n",
       "    <tr>\n",
       "      <th>3</th>\n",
       "      <td></td>\n",
       "      <td>paper/The-Role-of-Deliberate-Practice-in-the-A...</td>\n",
       "      <td>None</td>\n",
       "    </tr>\n",
       "    <tr>\n",
       "      <th>4</th>\n",
       "      <td></td>\n",
       "      <td>paper/Sovereign-Debt-in-Latin-America-%2C-1820...</td>\n",
       "      <td>None</td>\n",
       "    </tr>\n",
       "  </tbody>\n",
       "</table>\n",
       "</div>"
      ],
      "text/plain": [
       "  0                                                  1     2\n",
       "0                                                       None\n",
       "1    paper/Building-Natural-Language-Interfaces-to-...  None\n",
       "2    paper/Biochemical-and-redox-characterization-o...  None\n",
       "3    paper/The-Role-of-Deliberate-Practice-in-the-A...  None\n",
       "4    paper/Sovereign-Debt-in-Latin-America-%2C-1820...  None"
      ]
     },
     "execution_count": 21,
     "metadata": {},
     "output_type": "execute_result"
    }
   ],
   "source": [
    "new_df[\"landing_page\"].str.split(\"www.semanticscholar.org/\", n =2, expand = True).head()"
   ]
  },
  {
   "cell_type": "code",
   "execution_count": 22,
   "metadata": {
    "collapsed": true
   },
   "outputs": [],
   "source": [
    "TopLandingPage = new_df[\"landing_page\"].str.split(\"www.semanticscholar.org/\", n =2, expand = True)"
   ]
  },
  {
   "cell_type": "code",
   "execution_count": 23,
   "metadata": {},
   "outputs": [
    {
     "data": {
      "text/html": [
       "<div>\n",
       "<style>\n",
       "    .dataframe thead tr:only-child th {\n",
       "        text-align: right;\n",
       "    }\n",
       "\n",
       "    .dataframe thead th {\n",
       "        text-align: left;\n",
       "    }\n",
       "\n",
       "    .dataframe tbody tr th {\n",
       "        vertical-align: top;\n",
       "    }\n",
       "</style>\n",
       "<table border=\"1\" class=\"dataframe\">\n",
       "  <thead>\n",
       "    <tr style=\"text-align: right;\">\n",
       "      <th></th>\n",
       "      <th>0</th>\n",
       "      <th>1</th>\n",
       "      <th>2</th>\n",
       "    </tr>\n",
       "  </thead>\n",
       "  <tbody>\n",
       "    <tr>\n",
       "      <th>0</th>\n",
       "      <td></td>\n",
       "      <td>None</td>\n",
       "      <td>None</td>\n",
       "    </tr>\n",
       "    <tr>\n",
       "      <th>1</th>\n",
       "      <td>paper</td>\n",
       "      <td>Building-Natural-Language-Interfaces-to-Web-AP...</td>\n",
       "      <td>2c710a926fbe1840c1caa1f6844312d2b02ae7f9</td>\n",
       "    </tr>\n",
       "    <tr>\n",
       "      <th>2</th>\n",
       "      <td>paper</td>\n",
       "      <td>Biochemical-and-redox-characterization-of-the-...</td>\n",
       "      <td>001fcc24cc92e81c4d4d5347619b020caa7a86e9</td>\n",
       "    </tr>\n",
       "    <tr>\n",
       "      <th>3</th>\n",
       "      <td>paper</td>\n",
       "      <td>The-Role-of-Deliberate-Practice-in-the-Acquisi...</td>\n",
       "      <td>31cd1fb673ebcf2cfb18fca840b831b6e49e650b</td>\n",
       "    </tr>\n",
       "    <tr>\n",
       "      <th>4</th>\n",
       "      <td>paper</td>\n",
       "      <td>Sovereign-Debt-in-Latin-America-%2C-1820-%E2%8...</td>\n",
       "      <td>2cc7d57ab834b915d9c2cfd047ac3afdb3c0b985</td>\n",
       "    </tr>\n",
       "  </tbody>\n",
       "</table>\n",
       "</div>"
      ],
      "text/plain": [
       "       0                                                  1  \\\n",
       "0                                                      None   \n",
       "1  paper  Building-Natural-Language-Interfaces-to-Web-AP...   \n",
       "2  paper  Biochemical-and-redox-characterization-of-the-...   \n",
       "3  paper  The-Role-of-Deliberate-Practice-in-the-Acquisi...   \n",
       "4  paper  Sovereign-Debt-in-Latin-America-%2C-1820-%E2%8...   \n",
       "\n",
       "                                          2  \n",
       "0                                      None  \n",
       "1  2c710a926fbe1840c1caa1f6844312d2b02ae7f9  \n",
       "2  001fcc24cc92e81c4d4d5347619b020caa7a86e9  \n",
       "3  31cd1fb673ebcf2cfb18fca840b831b6e49e650b  \n",
       "4  2cc7d57ab834b915d9c2cfd047ac3afdb3c0b985  "
      ]
     },
     "execution_count": 23,
     "metadata": {},
     "output_type": "execute_result"
    }
   ],
   "source": [
    "TopLandingPage[1].str.split(\"/\", n =2, expand = True).head()"
   ]
  },
  {
   "cell_type": "code",
   "execution_count": 24,
   "metadata": {
    "collapsed": true
   },
   "outputs": [],
   "source": [
    "TopLandingPageType = TopLandingPage[1].str.split(\"/\", n =2, expand = True)"
   ]
  },
  {
   "cell_type": "code",
   "execution_count": 25,
   "metadata": {},
   "outputs": [
    {
     "data": {
      "text/plain": [
       "paper     844699\n",
       "           70507\n",
       "author     43916\n",
       "search     27399\n",
       "topic      11630\n",
       "Name: 0, dtype: int64"
      ]
     },
     "execution_count": 25,
     "metadata": {},
     "output_type": "execute_result"
    }
   ],
   "source": [
    "TopLandingPageType[0].value_counts().head()"
   ]
  },
  {
   "cell_type": "code",
   "execution_count": 26,
   "metadata": {
    "collapsed": true
   },
   "outputs": [],
   "source": [
    "################### INTERESTING INSIGHTS ############################################"
   ]
  },
  {
   "cell_type": "code",
   "execution_count": 27,
   "metadata": {},
   "outputs": [],
   "source": [
    "new_date = new_df['time'].str.split(\" \", n =2, expand = True)"
   ]
  },
  {
   "cell_type": "code",
   "execution_count": 29,
   "metadata": {},
   "outputs": [
    {
     "name": "stderr",
     "output_type": "stream",
     "text": [
      "C:\\Users\\Snehal\\Anaconda2\\lib\\site-packages\\ipykernel_launcher.py:1: SettingWithCopyWarning: \n",
      "A value is trying to be set on a copy of a slice from a DataFrame.\n",
      "Try using .loc[row_indexer,col_indexer] = value instead\n",
      "\n",
      "See the caveats in the documentation: http://pandas.pydata.org/pandas-docs/stable/indexing.html#indexing-view-versus-copy\n",
      "  \"\"\"Entry point for launching an IPython kernel.\n"
     ]
    }
   ],
   "source": [
    "new_df['new_date'] = new_date[0]"
   ]
  },
  {
   "cell_type": "code",
   "execution_count": 32,
   "metadata": {},
   "outputs": [
    {
     "data": {
      "text/html": [
       "<div>\n",
       "<style>\n",
       "    .dataframe thead tr:only-child th {\n",
       "        text-align: right;\n",
       "    }\n",
       "\n",
       "    .dataframe thead th {\n",
       "        text-align: left;\n",
       "    }\n",
       "\n",
       "    .dataframe tbody tr th {\n",
       "        vertical-align: top;\n",
       "    }\n",
       "</style>\n",
       "<table border=\"1\" class=\"dataframe\">\n",
       "  <thead>\n",
       "    <tr style=\"text-align: right;\">\n",
       "      <th></th>\n",
       "      <th>session_id</th>\n",
       "      <th>time</th>\n",
       "      <th>landing_page</th>\n",
       "      <th>path</th>\n",
       "      <th>new_date</th>\n",
       "    </tr>\n",
       "  </thead>\n",
       "  <tbody>\n",
       "    <tr>\n",
       "      <th>0</th>\n",
       "      <td>2314440000000000</td>\n",
       "      <td>06/01/2018 0:00</td>\n",
       "      <td>www.semanticscholar.org/</td>\n",
       "      <td>/</td>\n",
       "      <td>06/01/2018</td>\n",
       "    </tr>\n",
       "    <tr>\n",
       "      <th>1</th>\n",
       "      <td>6405710000000000</td>\n",
       "      <td>06/01/2018 0:00</td>\n",
       "      <td>www.semanticscholar.org/paper/Building-Natural...</td>\n",
       "      <td>/paper/Building-Natural-Language-Interfaces-to...</td>\n",
       "      <td>06/01/2018</td>\n",
       "    </tr>\n",
       "    <tr>\n",
       "      <th>2</th>\n",
       "      <td>6668560000000000</td>\n",
       "      <td>06/01/2018 0:00</td>\n",
       "      <td>www.semanticscholar.org/paper/Biochemical-and-...</td>\n",
       "      <td>/paper/Biochemical-and-redox-characterization-...</td>\n",
       "      <td>06/01/2018</td>\n",
       "    </tr>\n",
       "    <tr>\n",
       "      <th>3</th>\n",
       "      <td>6868690000000000</td>\n",
       "      <td>06/01/2018 0:00</td>\n",
       "      <td>www.semanticscholar.org/paper/The-Role-of-Deli...</td>\n",
       "      <td>/paper/The-Role-of-Deliberate-Practice-in-the-...</td>\n",
       "      <td>06/01/2018</td>\n",
       "    </tr>\n",
       "    <tr>\n",
       "      <th>4</th>\n",
       "      <td>3773870000000000</td>\n",
       "      <td>06/01/2018 0:00</td>\n",
       "      <td>www.semanticscholar.org/paper/Sovereign-Debt-i...</td>\n",
       "      <td>/paper/Sovereign-Debt-in-Latin-America-%2C-182...</td>\n",
       "      <td>06/01/2018</td>\n",
       "    </tr>\n",
       "  </tbody>\n",
       "</table>\n",
       "</div>"
      ],
      "text/plain": [
       "         session_id             time  \\\n",
       "0  2314440000000000  06/01/2018 0:00   \n",
       "1  6405710000000000  06/01/2018 0:00   \n",
       "2  6668560000000000  06/01/2018 0:00   \n",
       "3  6868690000000000  06/01/2018 0:00   \n",
       "4  3773870000000000  06/01/2018 0:00   \n",
       "\n",
       "                                        landing_page  \\\n",
       "0                           www.semanticscholar.org/   \n",
       "1  www.semanticscholar.org/paper/Building-Natural...   \n",
       "2  www.semanticscholar.org/paper/Biochemical-and-...   \n",
       "3  www.semanticscholar.org/paper/The-Role-of-Deli...   \n",
       "4  www.semanticscholar.org/paper/Sovereign-Debt-i...   \n",
       "\n",
       "                                                path    new_date  \n",
       "0                                                  /  06/01/2018  \n",
       "1  /paper/Building-Natural-Language-Interfaces-to...  06/01/2018  \n",
       "2  /paper/Biochemical-and-redox-characterization-...  06/01/2018  \n",
       "3  /paper/The-Role-of-Deliberate-Practice-in-the-...  06/01/2018  \n",
       "4  /paper/Sovereign-Debt-in-Latin-America-%2C-182...  06/01/2018  "
      ]
     },
     "execution_count": 32,
     "metadata": {},
     "output_type": "execute_result"
    }
   ],
   "source": [
    "new_df.head()"
   ]
  },
  {
   "cell_type": "code",
   "execution_count": 33,
   "metadata": {},
   "outputs": [
    {
     "name": "stderr",
     "output_type": "stream",
     "text": [
      "C:\\Users\\Snehal\\Anaconda2\\lib\\site-packages\\ipykernel_launcher.py:1: SettingWithCopyWarning: \n",
      "A value is trying to be set on a copy of a slice from a DataFrame.\n",
      "Try using .loc[row_indexer,col_indexer] = value instead\n",
      "\n",
      "See the caveats in the documentation: http://pandas.pydata.org/pandas-docs/stable/indexing.html#indexing-view-versus-copy\n",
      "  \"\"\"Entry point for launching an IPython kernel.\n"
     ]
    }
   ],
   "source": [
    "new_df['new_date'] = pd.to_datetime(pd.Series(new_df['new_date']))"
   ]
  },
  {
   "cell_type": "code",
   "execution_count": null,
   "metadata": {},
   "outputs": [],
   "source": [
    "new_df.plot.bar()"
   ]
  },
  {
   "cell_type": "code",
   "execution_count": 31,
   "metadata": {},
   "outputs": [
    {
     "ename": "NameError",
     "evalue": "name 'go' is not defined",
     "output_type": "error",
     "traceback": [
      "\u001b[1;31m---------------------------------------------------------------------------\u001b[0m",
      "\u001b[1;31mNameError\u001b[0m                                 Traceback (most recent call last)",
      "\u001b[1;32m<ipython-input-31-39df954018c1>\u001b[0m in \u001b[0;36m<module>\u001b[1;34m()\u001b[0m\n\u001b[1;32m----> 1\u001b[1;33m data = [go.Scatter(\n\u001b[0m\u001b[0;32m      2\u001b[0m           \u001b[0mx\u001b[0m\u001b[1;33m=\u001b[0m\u001b[0mdf\u001b[0m\u001b[1;33m.\u001b[0m\u001b[0mtime\u001b[0m\u001b[1;33m,\u001b[0m\u001b[1;33m\u001b[0m\u001b[0m\n\u001b[0;32m      3\u001b[0m           y=df['session'])]\n\u001b[0;32m      4\u001b[0m \u001b[1;33m\u001b[0m\u001b[0m\n\u001b[0;32m      5\u001b[0m \u001b[0mpy\u001b[0m\u001b[1;33m.\u001b[0m\u001b[0miplot\u001b[0m\u001b[1;33m(\u001b[0m\u001b[0mdata\u001b[0m\u001b[1;33m)\u001b[0m\u001b[1;33m\u001b[0m\u001b[0m\n",
      "\u001b[1;31mNameError\u001b[0m: name 'go' is not defined"
     ]
    }
   ],
   "source": [
    "data = [go.Scatter(\n",
    "          x=df.time,\n",
    "          y=df['session'])]\n",
    "\n",
    "py.iplot(data)"
   ]
  },
  {
   "cell_type": "code",
   "execution_count": 39,
   "metadata": {
    "collapsed": true
   },
   "outputs": [],
   "source": [
    "# Initialize defaultdict of type float\n",
    "daily_total_sessions = defaultdict(float)"
   ]
  },
  {
   "cell_type": "code",
   "execution_count": 45,
   "metadata": {},
   "outputs": [
    {
     "data": {
      "text/plain": [
       "long"
      ]
     },
     "execution_count": 45,
     "metadata": {},
     "output_type": "execute_result"
    }
   ],
   "source": [
    "# Loop over the rows of df data frame\n",
    "for day in df.iterrows():\n",
    "    # Get the date\n",
    "    dates = day[1][0]\n",
    "\n",
    "    # Get the number of sessions used\n",
    "    num_sessions = day[1][1]\n",
    "\n",
    "    # Add the total number of session to the current value for the day\n",
    "   # daily_total_sessions[dates] += num_sessions\n",
    "\n",
    "# Print yearly_total_coins\n",
    "type(dates)\n"
   ]
  },
  {
   "cell_type": "code",
   "execution_count": null,
   "metadata": {
    "collapsed": true
   },
   "outputs": [],
   "source": [
    "\n",
    "# Visualize aggregated data\n",
    "plt.bar(range(len(yearly_total_coins)), list(yearly_total_coins.values()), align='center')\n",
    "plt.xticks(range(len(yearly_total_coins)), list(yearly_total_coins.keys()))\n",
    "plt.title('# of ethers generated by year')\n",
    "plt.show()"
   ]
  },
  {
   "cell_type": "code",
   "execution_count": 78,
   "metadata": {
    "collapsed": true
   },
   "outputs": [],
   "source": [
    "df_date = df_date1[0]"
   ]
  },
  {
   "cell_type": "code",
   "execution_count": 79,
   "metadata": {
    "collapsed": true
   },
   "outputs": [],
   "source": [
    "df_date = pd.to_datetime(df_date, errors='ignore', unit='s')"
   ]
  },
  {
   "cell_type": "code",
   "execution_count": 80,
   "metadata": {
    "collapsed": true
   },
   "outputs": [],
   "source": [
    "df_date = df_date.astype('string')"
   ]
  },
  {
   "cell_type": "code",
   "execution_count": 36,
   "metadata": {},
   "outputs": [
    {
     "data": {
      "text/plain": [
       "0    06/01/2018\n",
       "1    06/01/2018\n",
       "2    06/01/2018\n",
       "3    06/01/2018\n",
       "4    06/01/2018\n",
       "Name: 0, dtype: object"
      ]
     },
     "execution_count": 36,
     "metadata": {},
     "output_type": "execute_result"
    }
   ],
   "source": [
    "df_date.head()"
   ]
  }
 ],
 "metadata": {
  "kernelspec": {
   "display_name": "Python 2",
   "language": "python",
   "name": "python2"
  },
  "language_info": {
   "codemirror_mode": {
    "name": "ipython",
    "version": 2
   },
   "file_extension": ".py",
   "mimetype": "text/x-python",
   "name": "python",
   "nbconvert_exporter": "python",
   "pygments_lexer": "ipython2",
   "version": "2.7.14"
  }
 },
 "nbformat": 4,
 "nbformat_minor": 2
}
